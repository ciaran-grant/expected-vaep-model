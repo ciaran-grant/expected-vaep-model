{
 "cells": [
  {
   "attachments": {},
   "cell_type": "markdown",
   "metadata": {},
   "source": [
    "Valuing Actions by Estimating Probabilities"
   ]
  },
  {
   "cell_type": "code",
   "execution_count": 1,
   "metadata": {},
   "outputs": [],
   "source": [
    "from expected_vaep_model.features.build_features import match_chains_to_modelling_data\n",
    "from expected_vaep_model.config import chain_file_path"
   ]
  },
  {
   "cell_type": "code",
   "execution_count": 2,
   "metadata": {},
   "outputs": [
    {
     "name": "stdout",
     "output_type": "stream",
     "text": [
      "Chain data loaded.\n",
      "Getting xScores for chains.\n",
      "Creating Expected VAEP Preprocessor.\n",
      "Creating modelling features.\n",
      "Creating labels.\n",
      "Generating train, test and validation sets.\n",
      "Exporting modelling data to: /Users/ciaran/Documents/Projects/AFL/git-repositories/expected-vaep-model/data/processed/exp_vaep_modelling_data_v4.csv\n",
      "Exporting preprocessor to: /Users/ciaran/Documents/Projects/AFL/git-repositories/expected-vaep-model/models/preprocessors/exp_vaep_preprocessor_v4.joblib\n"
     ]
    }
   ],
   "source": [
    "match_chains_to_modelling_data(chain_file_path=chain_file_path,\n",
    "                               model_output_path='/Users/ciaran/Documents/Projects/AFL/git-repositories/expected-vaep-model/data/processed/exp_vaep_modelling_data_v4.csv',\n",
    "                               preprocessor_output_path='/Users/ciaran/Documents/Projects/AFL/git-repositories/expected-vaep-model/models/preprocessors/exp_vaep_preprocessor_v4.joblib')"
   ]
  },
  {
   "cell_type": "code",
   "execution_count": null,
   "metadata": {},
   "outputs": [],
   "source": []
  }
 ],
 "metadata": {
  "kernelspec": {
   "display_name": "player-ratings-env",
   "language": "python",
   "name": "python3"
  },
  "language_info": {
   "codemirror_mode": {
    "name": "ipython",
    "version": 3
   },
   "file_extension": ".py",
   "mimetype": "text/x-python",
   "name": "python",
   "nbconvert_exporter": "python",
   "pygments_lexer": "ipython3",
   "version": "3.11.5"
  },
  "orig_nbformat": 4
 },
 "nbformat": 4,
 "nbformat_minor": 2
}
