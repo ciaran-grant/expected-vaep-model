{
 "cells": [
  {
   "attachments": {},
   "cell_type": "markdown",
   "metadata": {},
   "source": [
    "Valuing Actions by Estimating Probabilities"
   ]
  },
  {
   "cell_type": "code",
   "execution_count": null,
   "metadata": {},
   "outputs": [],
   "source": [
    "from expected_vaep_model.features.build_features import match_chains_to_modelling_data\n",
    "from expected_vaep_model.config import chain_file_path"
   ]
  },
  {
   "cell_type": "code",
   "execution_count": null,
   "metadata": {},
   "outputs": [],
   "source": [
    "match_chains_to_modelling_data(chain_file_path=chain_file_path,\n",
    "                               model_output_path='/Users/ciaran/Documents/Projects/AFL/git-repositories/expected-vaep-model/data/processed/exp_vaep_modelling_data_v5.csv',\n",
    "                               preprocessor_output_path='/Users/ciaran/Documents/Projects/AFL/git-repositories/expected-vaep-model/models/preprocessors/exp_vaep_preprocessor_v5.joblib')"
   ]
  },
  {
   "cell_type": "code",
   "execution_count": null,
   "metadata": {},
   "outputs": [],
   "source": [
    "import pandas as pd\n",
    "modelling_data = pd.read_csv('/Users/ciaran/Documents/Projects/AFL/git-repositories/expected-vaep-model/data/processed/exp_vaep_modelling_data_v5.csv')\n",
    "modelling_data.head()"
   ]
  },
  {
   "cell_type": "code",
   "execution_count": null,
   "metadata": {},
   "outputs": [],
   "source": []
  }
 ],
 "metadata": {
  "kernelspec": {
   "display_name": "player-ratings-env",
   "language": "python",
   "name": "python3"
  },
  "language_info": {
   "codemirror_mode": {
    "name": "ipython",
    "version": 3
   },
   "file_extension": ".py",
   "mimetype": "text/x-python",
   "name": "python",
   "nbconvert_exporter": "python",
   "pygments_lexer": "ipython3",
   "version": "3.11.5"
  },
  "orig_nbformat": 4
 },
 "nbformat": 4,
 "nbformat_minor": 2
}
