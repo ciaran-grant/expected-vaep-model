{
 "cells": [
  {
   "attachments": {},
   "cell_type": "markdown",
   "metadata": {},
   "source": [
    "Valuing Actions by Estimating Probabilities"
   ]
  },
  {
   "cell_type": "code",
   "execution_count": null,
   "metadata": {},
   "outputs": [],
   "source": [
    "import sys\n",
    "sys.path.append(\"/Users/ciaran/Documents/Projects/AFL/git-repositories/expected-vaep-model/\")\n",
    "sys.path.append(\"/Users/ciaran/Documents/Projects/AFL/git-repositories/expected-vaep-model/src\")\n",
    "from src.features.build_features import match_chains_to_modelling_data"
   ]
  },
  {
   "cell_type": "code",
   "execution_count": null,
   "metadata": {},
   "outputs": [],
   "source": [
    "match_chains_to_modelling_data()"
   ]
  }
 ],
 "metadata": {
  "kernelspec": {
   "display_name": "player-ratings-env",
   "language": "python",
   "name": "python3"
  },
  "language_info": {
   "codemirror_mode": {
    "name": "ipython",
    "version": 3
   },
   "file_extension": ".py",
   "mimetype": "text/x-python",
   "name": "python",
   "nbconvert_exporter": "python",
   "pygments_lexer": "ipython3",
   "version": "3.11.5"
  },
  "orig_nbformat": 4
 },
 "nbformat": 4,
 "nbformat_minor": 2
}
