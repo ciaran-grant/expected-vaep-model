{
 "cells": [
  {
   "attachments": {},
   "cell_type": "markdown",
   "metadata": {},
   "source": [
    "Scoring/Conceding in next 10 actions model - Model Tuning and Building - GBM"
   ]
  },
  {
   "cell_type": "code",
   "execution_count": 1,
   "metadata": {},
   "outputs": [
    {
     "name": "stdout",
     "output_type": "stream",
     "text": [
      "1.7.3\n"
     ]
    }
   ],
   "source": [
    "from expected_vaep_model.models.train_model import train_model\n",
    "import warnings\n",
    "warnings.filterwarnings('ignore')\n",
    "\n",
    "import xgboost\n",
    "print(xgboost.__version__)"
   ]
  },
  {
   "cell_type": "code",
   "execution_count": 2,
   "metadata": {},
   "outputs": [
    {
     "name": "stdout",
     "output_type": "stream",
     "text": [
      "Loading modelling data.\n"
     ]
    },
    {
     "name": "stderr",
     "output_type": "stream",
     "text": [
      "[I 2023-11-19 15:58:59,082] A new study created in memory with name: no-name-48c88134-fb3a-41ae-9dd9-942db82cae4b\n"
     ]
    },
    {
     "name": "stdout",
     "output_type": "stream",
     "text": [
      "Starting hyperparameter tuning.\n"
     ]
    },
    {
     "name": "stderr",
     "output_type": "stream",
     "text": [
      "[I 2023-11-19 15:59:13,479] Trial 0 finished with value: 1.2933732635605597 and parameters: {'max_depth': 9, 'min_child_weight': 44, 'eta': 0.103863319637922, 'gamma': 0.00013319404523894678, 'lambda': 1.1422486994558003, 'alpha': 6.489920985556722, 'subsample': 0.37646304295177097, 'colsample_bytree': 0.8725072988625551}. Best is trial 0 with value: 1.2933732635605597.\n",
      "[I 2023-11-19 15:59:23,833] Trial 1 finished with value: 1.2509880014308559 and parameters: {'max_depth': 7, 'min_child_weight': 17, 'eta': 0.418030028700739, 'gamma': 0.0010847287352908658, 'lambda': 1.2606608730175601, 'alpha': 0.0006188468166945377, 'subsample': 0.45544476991287347, 'colsample_bytree': 0.5062163375188313}. Best is trial 1 with value: 1.2509880014308559.\n",
      "[I 2023-11-19 15:59:40,055] Trial 2 finished with value: 1.4551755986502195 and parameters: {'max_depth': 20, 'min_child_weight': 37, 'eta': 0.030138213558298394, 'gamma': 0.003900775860104122, 'lambda': 0.8456388501183003, 'alpha': 0.00019283940146778132, 'subsample': 0.4726876396719501, 'colsample_bytree': 0.36272085253597497}. Best is trial 1 with value: 1.2509880014308559.\n",
      "[I 2023-11-19 16:00:00,164] Trial 3 finished with value: 1.4938280008305522 and parameters: {'max_depth': 14, 'min_child_weight': 44, 'eta': 0.01823402751875852, 'gamma': 0.007832296705086478, 'lambda': 0.022025812181044862, 'alpha': 0.16949349422170842, 'subsample': 0.3699012287207976, 'colsample_bytree': 0.6799345854897462}. Best is trial 1 with value: 1.2509880014308559.\n",
      "[I 2023-11-19 16:00:08,968] Trial 4 finished with value: 1.5257361452029434 and parameters: {'max_depth': 5, 'min_child_weight': 39, 'eta': 0.015659963881827856, 'gamma': 0.08767267102554743, 'lambda': 0.03950293823970858, 'alpha': 0.004619352481845908, 'subsample': 0.24098028950561315, 'colsample_bytree': 0.30107993235032215}. Best is trial 1 with value: 1.2509880014308559.\n",
      "[I 2023-11-19 16:00:20,331] Trial 5 finished with value: 1.4077970743637467 and parameters: {'max_depth': 13, 'min_child_weight': 16, 'eta': 0.051793797377357155, 'gamma': 0.11060367093334958, 'lambda': 0.0003555305969193036, 'alpha': 0.004575515549482427, 'subsample': 0.6452109708994107, 'colsample_bytree': 0.23203814498332023}. Best is trial 1 with value: 1.2509880014308559.\n",
      "[I 2023-11-19 16:00:35,644] Trial 6 finished with value: 1.3991285730352512 and parameters: {'max_depth': 16, 'min_child_weight': 14, 'eta': 0.05037163988983443, 'gamma': 0.01565654696289932, 'lambda': 0.018827592681825444, 'alpha': 0.4205019447421056, 'subsample': 0.542574058697314, 'colsample_bytree': 0.35858236033846236}. Best is trial 1 with value: 1.2509880014308559.\n",
      "[I 2023-11-19 16:00:44,486] Trial 7 finished with value: 1.2726026591731088 and parameters: {'max_depth': 4, 'min_child_weight': 33, 'eta': 0.9040948172210745, 'gamma': 0.02080625548844333, 'lambda': 0.0004455653467940834, 'alpha': 0.1359837790540732, 'subsample': 0.5640415297088313, 'colsample_bytree': 0.5160805527793451}. Best is trial 1 with value: 1.2509880014308559.\n",
      "[I 2023-11-19 16:01:04,708] Trial 8 finished with value: 1.3159866514227314 and parameters: {'max_depth': 19, 'min_child_weight': 81, 'eta': 0.6331326212407327, 'gamma': 3.1590774418261978, 'lambda': 1.4106385153147525, 'alpha': 0.005415311018833588, 'subsample': 0.3546707042540522, 'colsample_bytree': 0.7922639984590552}. Best is trial 1 with value: 1.2509880014308559.\n",
      "[I 2023-11-19 16:01:19,353] Trial 9 finished with value: 1.2528438396463348 and parameters: {'max_depth': 10, 'min_child_weight': 20, 'eta': 0.5160095141316741, 'gamma': 0.00011342795150279668, 'lambda': 0.002047088877798388, 'alpha': 0.6884641497107006, 'subsample': 0.6399774083281331, 'colsample_bytree': 0.605500290931884}. Best is trial 1 with value: 1.2509880014308559.\n"
     ]
    },
    {
     "name": "stdout",
     "output_type": "stream",
     "text": [
      "Number of finished trials:  10\n",
      "Best trial:\n",
      "  Value: 1.2509880014308559\n",
      "  Params: \n",
      "    max_depth: 7\n",
      "    min_child_weight: 17\n",
      "    eta: 0.418030028700739\n",
      "    gamma: 0.0010847287352908658\n",
      "    lambda: 1.2606608730175601\n",
      "    alpha: 0.0006188468166945377\n",
      "    subsample: 0.45544476991287347\n",
      "    colsample_bytree: 0.5062163375188313\n",
      "Hyperparameter tuning complete.\n",
      "Fitting model.\n",
      "[0]\tvalidation_0-rmse:1.40428\tvalidation_1-rmse:1.40538\n",
      "[1]\tvalidation_0-rmse:1.33855\tvalidation_1-rmse:1.34054\n",
      "[2]\tvalidation_0-rmse:1.30165\tvalidation_1-rmse:1.30453\n",
      "[3]\tvalidation_0-rmse:1.27742\tvalidation_1-rmse:1.28107\n",
      "[4]\tvalidation_0-rmse:1.26577\tvalidation_1-rmse:1.27038\n",
      "[5]\tvalidation_0-rmse:1.26022\tvalidation_1-rmse:1.26544\n",
      "[6]\tvalidation_0-rmse:1.25518\tvalidation_1-rmse:1.26098\n",
      "[7]\tvalidation_0-rmse:1.25251\tvalidation_1-rmse:1.25876\n",
      "[8]\tvalidation_0-rmse:1.25007\tvalidation_1-rmse:1.25694\n",
      "[9]\tvalidation_0-rmse:1.24761\tvalidation_1-rmse:1.25508\n",
      "[10]\tvalidation_0-rmse:1.24522\tvalidation_1-rmse:1.25334\n",
      "[11]\tvalidation_0-rmse:1.24319\tvalidation_1-rmse:1.25187\n",
      "[12]\tvalidation_0-rmse:1.24217\tvalidation_1-rmse:1.25158\n",
      "[13]\tvalidation_0-rmse:1.24114\tvalidation_1-rmse:1.25098\n",
      "[14]\tvalidation_0-rmse:1.24022\tvalidation_1-rmse:1.25055\n",
      "[15]\tvalidation_0-rmse:1.23945\tvalidation_1-rmse:1.25025\n",
      "[16]\tvalidation_0-rmse:1.23880\tvalidation_1-rmse:1.24995\n",
      "[17]\tvalidation_0-rmse:1.23726\tvalidation_1-rmse:1.24883\n",
      "[18]\tvalidation_0-rmse:1.23665\tvalidation_1-rmse:1.24854\n",
      "[19]\tvalidation_0-rmse:1.23623\tvalidation_1-rmse:1.24858\n",
      "[20]\tvalidation_0-rmse:1.23568\tvalidation_1-rmse:1.24847\n",
      "[21]\tvalidation_0-rmse:1.23500\tvalidation_1-rmse:1.24826\n",
      "[22]\tvalidation_0-rmse:1.23456\tvalidation_1-rmse:1.24815\n",
      "[23]\tvalidation_0-rmse:1.23417\tvalidation_1-rmse:1.24814\n",
      "[24]\tvalidation_0-rmse:1.23369\tvalidation_1-rmse:1.24798\n",
      "[25]\tvalidation_0-rmse:1.23313\tvalidation_1-rmse:1.24803\n",
      "[26]\tvalidation_0-rmse:1.23270\tvalidation_1-rmse:1.24806\n",
      "[27]\tvalidation_0-rmse:1.23236\tvalidation_1-rmse:1.24810\n",
      "[28]\tvalidation_0-rmse:1.23194\tvalidation_1-rmse:1.24817\n",
      "[29]\tvalidation_0-rmse:1.23149\tvalidation_1-rmse:1.24826\n",
      "[30]\tvalidation_0-rmse:1.23116\tvalidation_1-rmse:1.24819\n",
      "[31]\tvalidation_0-rmse:1.23099\tvalidation_1-rmse:1.24813\n",
      "[32]\tvalidation_0-rmse:1.23057\tvalidation_1-rmse:1.24815\n",
      "[33]\tvalidation_0-rmse:1.23015\tvalidation_1-rmse:1.24815\n",
      "[34]\tvalidation_0-rmse:1.22983\tvalidation_1-rmse:1.24823\n",
      "[35]\tvalidation_0-rmse:1.22944\tvalidation_1-rmse:1.24814\n",
      "[36]\tvalidation_0-rmse:1.22920\tvalidation_1-rmse:1.24822\n",
      "[37]\tvalidation_0-rmse:1.22895\tvalidation_1-rmse:1.24834\n",
      "[38]\tvalidation_0-rmse:1.22857\tvalidation_1-rmse:1.24835\n",
      "[39]\tvalidation_0-rmse:1.22823\tvalidation_1-rmse:1.24837\n",
      "[40]\tvalidation_0-rmse:1.22799\tvalidation_1-rmse:1.24830\n",
      "[41]\tvalidation_0-rmse:1.22751\tvalidation_1-rmse:1.24836\n",
      "[42]\tvalidation_0-rmse:1.22712\tvalidation_1-rmse:1.24826\n",
      "[43]\tvalidation_0-rmse:1.22683\tvalidation_1-rmse:1.24827\n",
      "[44]\tvalidation_0-rmse:1.22643\tvalidation_1-rmse:1.24823\n",
      "[45]\tvalidation_0-rmse:1.22602\tvalidation_1-rmse:1.24801\n",
      "[46]\tvalidation_0-rmse:1.22567\tvalidation_1-rmse:1.24808\n",
      "[47]\tvalidation_0-rmse:1.22535\tvalidation_1-rmse:1.24817\n",
      "[48]\tvalidation_0-rmse:1.22504\tvalidation_1-rmse:1.24824\n",
      "[49]\tvalidation_0-rmse:1.22476\tvalidation_1-rmse:1.24837\n",
      "[50]\tvalidation_0-rmse:1.22445\tvalidation_1-rmse:1.24850\n",
      "[51]\tvalidation_0-rmse:1.22418\tvalidation_1-rmse:1.24864\n",
      "[52]\tvalidation_0-rmse:1.22379\tvalidation_1-rmse:1.24874\n",
      "[53]\tvalidation_0-rmse:1.22353\tvalidation_1-rmse:1.24871\n",
      "[54]\tvalidation_0-rmse:1.22334\tvalidation_1-rmse:1.24877\n",
      "[55]\tvalidation_0-rmse:1.22295\tvalidation_1-rmse:1.24889\n",
      "[56]\tvalidation_0-rmse:1.22262\tvalidation_1-rmse:1.24876\n",
      "[57]\tvalidation_0-rmse:1.22211\tvalidation_1-rmse:1.24880\n",
      "[58]\tvalidation_0-rmse:1.22172\tvalidation_1-rmse:1.24889\n",
      "[59]\tvalidation_0-rmse:1.22141\tvalidation_1-rmse:1.24905\n",
      "[60]\tvalidation_0-rmse:1.22122\tvalidation_1-rmse:1.24904\n",
      "[61]\tvalidation_0-rmse:1.22109\tvalidation_1-rmse:1.24906\n",
      "[62]\tvalidation_0-rmse:1.22074\tvalidation_1-rmse:1.24906\n",
      "[63]\tvalidation_0-rmse:1.22035\tvalidation_1-rmse:1.24922\n",
      "[64]\tvalidation_0-rmse:1.22008\tvalidation_1-rmse:1.24937\n",
      "[65]\tvalidation_0-rmse:1.21970\tvalidation_1-rmse:1.24955\n",
      "[66]\tvalidation_0-rmse:1.21937\tvalidation_1-rmse:1.24969\n",
      "[67]\tvalidation_0-rmse:1.21914\tvalidation_1-rmse:1.24975\n",
      "[68]\tvalidation_0-rmse:1.21880\tvalidation_1-rmse:1.24977\n",
      "[69]\tvalidation_0-rmse:1.21856\tvalidation_1-rmse:1.24989\n",
      "[70]\tvalidation_0-rmse:1.21813\tvalidation_1-rmse:1.24997\n",
      "[71]\tvalidation_0-rmse:1.21793\tvalidation_1-rmse:1.25004\n",
      "[72]\tvalidation_0-rmse:1.21764\tvalidation_1-rmse:1.25006\n",
      "[73]\tvalidation_0-rmse:1.21714\tvalidation_1-rmse:1.25017\n",
      "[74]\tvalidation_0-rmse:1.21683\tvalidation_1-rmse:1.25038\n",
      "Exporting model to: /Users/ciaran/Documents/Projects/AFL/git-repositories/expected-vaep-model/models/models\n",
      "Loading modelling data.\n"
     ]
    },
    {
     "name": "stderr",
     "output_type": "stream",
     "text": [
      "[I 2023-11-19 16:02:30,043] A new study created in memory with name: no-name-2cf4cd5c-6eb3-4302-bc2f-fb92fc9c10af\n"
     ]
    },
    {
     "name": "stdout",
     "output_type": "stream",
     "text": [
      "Starting hyperparameter tuning.\n"
     ]
    },
    {
     "name": "stderr",
     "output_type": "stream",
     "text": [
      "[I 2023-11-19 16:02:43,482] Trial 0 finished with value: 0.7388773751996224 and parameters: {'max_depth': 12, 'min_child_weight': 97, 'eta': 0.34567153727189953, 'gamma': 0.8433531457617602, 'lambda': 0.004359650910222466, 'alpha': 0.01677385807822621, 'subsample': 0.299126228630469, 'colsample_bytree': 0.637261117340592}. Best is trial 0 with value: 0.7388773751996224.\n",
      "[I 2023-11-19 16:03:06,414] Trial 1 finished with value: 0.8081589836385189 and parameters: {'max_depth': 19, 'min_child_weight': 55, 'eta': 0.023491140491412668, 'gamma': 0.0002085499464862263, 'lambda': 0.23480484459992537, 'alpha': 9.360031752216592, 'subsample': 0.8101338010579797, 'colsample_bytree': 0.7378104161349994}. Best is trial 0 with value: 0.7388773751996224.\n",
      "[I 2023-11-19 16:03:22,947] Trial 2 finished with value: 0.7471081954168624 and parameters: {'max_depth': 10, 'min_child_weight': 33, 'eta': 0.11571863981913667, 'gamma': 7.4105649201148385, 'lambda': 0.04733569697890791, 'alpha': 3.8907650896499346, 'subsample': 0.5531789915092169, 'colsample_bytree': 0.8974095940812874}. Best is trial 0 with value: 0.7388773751996224.\n",
      "[I 2023-11-19 16:03:30,900] Trial 3 finished with value: 0.8255535982555756 and parameters: {'max_depth': 2, 'min_child_weight': 77, 'eta': 0.013355107390160199, 'gamma': 0.001668924709388856, 'lambda': 3.0519695995277694, 'alpha': 0.0002732580194907781, 'subsample': 0.7246479896007185, 'colsample_bytree': 0.4422899197067831}. Best is trial 0 with value: 0.7388773751996224.\n",
      "[I 2023-11-19 16:03:46,546] Trial 4 finished with value: 0.7534234681989878 and parameters: {'max_depth': 12, 'min_child_weight': 32, 'eta': 0.10906555310168009, 'gamma': 0.07767974075746166, 'lambda': 0.08568306714140196, 'alpha': 0.04551309356443007, 'subsample': 0.3848578915403582, 'colsample_bytree': 0.5391371961834742}. Best is trial 0 with value: 0.7388773751996224.\n",
      "[I 2023-11-19 16:04:01,730] Trial 5 finished with value: 0.7448818231766763 and parameters: {'max_depth': 15, 'min_child_weight': 69, 'eta': 0.259812599174169, 'gamma': 2.694900682266327, 'lambda': 0.0019583912101365725, 'alpha': 0.0009117225086809403, 'subsample': 0.8188000964007625, 'colsample_bytree': 0.40166786286258416}. Best is trial 0 with value: 0.7388773751996224.\n",
      "[I 2023-11-19 16:04:15,573] Trial 6 finished with value: 0.7991230519520055 and parameters: {'max_depth': 16, 'min_child_weight': 34, 'eta': 0.03233712373229193, 'gamma': 0.3956937069087732, 'lambda': 0.00017644637826371055, 'alpha': 0.008484091415529235, 'subsample': 0.4580712953451887, 'colsample_bytree': 0.3125617834702127}. Best is trial 0 with value: 0.7388773751996224.\n",
      "[I 2023-11-19 16:04:26,228] Trial 7 finished with value: 0.742561627057245 and parameters: {'max_depth': 13, 'min_child_weight': 82, 'eta': 0.19050488198160243, 'gamma': 0.5716028669788972, 'lambda': 6.916972905643519, 'alpha': 2.3533411865606833, 'subsample': 0.22588316855538448, 'colsample_bytree': 0.30904940017251425}. Best is trial 0 with value: 0.7388773751996224.\n",
      "[I 2023-11-19 16:04:34,168] Trial 8 finished with value: 0.7600160751290188 and parameters: {'max_depth': 5, 'min_child_weight': 94, 'eta': 0.1286846900185257, 'gamma': 0.0009515940124431015, 'lambda': 0.000174068316311912, 'alpha': 0.03435553231021167, 'subsample': 0.26249055802830457, 'colsample_bytree': 0.23176350457490216}. Best is trial 0 with value: 0.7388773751996224.\n",
      "[I 2023-11-19 16:04:42,031] Trial 9 finished with value: 0.7906108866675204 and parameters: {'max_depth': 3, 'min_child_weight': 10, 'eta': 0.046387292832257, 'gamma': 0.0004946584704643548, 'lambda': 0.005688364530411474, 'alpha': 0.6107382507306421, 'subsample': 0.8615191255130834, 'colsample_bytree': 0.3810289059862184}. Best is trial 0 with value: 0.7388773751996224.\n"
     ]
    },
    {
     "name": "stdout",
     "output_type": "stream",
     "text": [
      "Number of finished trials:  10\n",
      "Best trial:\n",
      "  Value: 0.7388773751996224\n",
      "  Params: \n",
      "    max_depth: 12\n",
      "    min_child_weight: 97\n",
      "    eta: 0.34567153727189953\n",
      "    gamma: 0.8433531457617602\n",
      "    lambda: 0.004359650910222466\n",
      "    alpha: 0.01677385807822621\n",
      "    subsample: 0.299126228630469\n",
      "    colsample_bytree: 0.637261117340592\n",
      "Hyperparameter tuning complete.\n",
      "Fitting model.\n",
      "[0]\tvalidation_0-rmse:0.78636\tvalidation_1-rmse:0.78910\n",
      "[1]\tvalidation_0-rmse:0.75962\tvalidation_1-rmse:0.76419\n",
      "[2]\tvalidation_0-rmse:0.74600\tvalidation_1-rmse:0.75239\n",
      "[3]\tvalidation_0-rmse:0.73889\tvalidation_1-rmse:0.74650\n",
      "[4]\tvalidation_0-rmse:0.73569\tvalidation_1-rmse:0.74451\n",
      "[5]\tvalidation_0-rmse:0.73366\tvalidation_1-rmse:0.74390\n",
      "[6]\tvalidation_0-rmse:0.73262\tvalidation_1-rmse:0.74371\n",
      "[7]\tvalidation_0-rmse:0.73140\tvalidation_1-rmse:0.74347\n",
      "[8]\tvalidation_0-rmse:0.73068\tvalidation_1-rmse:0.74366\n",
      "[9]\tvalidation_0-rmse:0.73016\tvalidation_1-rmse:0.74399\n",
      "[10]\tvalidation_0-rmse:0.72973\tvalidation_1-rmse:0.74417\n",
      "[11]\tvalidation_0-rmse:0.72954\tvalidation_1-rmse:0.74428\n",
      "[12]\tvalidation_0-rmse:0.72929\tvalidation_1-rmse:0.74442\n",
      "[13]\tvalidation_0-rmse:0.72888\tvalidation_1-rmse:0.74484\n",
      "[14]\tvalidation_0-rmse:0.72857\tvalidation_1-rmse:0.74505\n",
      "[15]\tvalidation_0-rmse:0.72837\tvalidation_1-rmse:0.74520\n",
      "[16]\tvalidation_0-rmse:0.72827\tvalidation_1-rmse:0.74524\n",
      "[17]\tvalidation_0-rmse:0.72798\tvalidation_1-rmse:0.74547\n",
      "[18]\tvalidation_0-rmse:0.72779\tvalidation_1-rmse:0.74556\n",
      "[19]\tvalidation_0-rmse:0.72730\tvalidation_1-rmse:0.74594\n",
      "[20]\tvalidation_0-rmse:0.72685\tvalidation_1-rmse:0.74636\n",
      "[21]\tvalidation_0-rmse:0.72657\tvalidation_1-rmse:0.74660\n",
      "[22]\tvalidation_0-rmse:0.72639\tvalidation_1-rmse:0.74674\n",
      "[23]\tvalidation_0-rmse:0.72627\tvalidation_1-rmse:0.74696\n",
      "[24]\tvalidation_0-rmse:0.72605\tvalidation_1-rmse:0.74708\n",
      "[25]\tvalidation_0-rmse:0.72578\tvalidation_1-rmse:0.74740\n",
      "[26]\tvalidation_0-rmse:0.72570\tvalidation_1-rmse:0.74753\n",
      "[27]\tvalidation_0-rmse:0.72551\tvalidation_1-rmse:0.74776\n",
      "[28]\tvalidation_0-rmse:0.72520\tvalidation_1-rmse:0.74782\n",
      "[29]\tvalidation_0-rmse:0.72491\tvalidation_1-rmse:0.74803\n",
      "[30]\tvalidation_0-rmse:0.72467\tvalidation_1-rmse:0.74817\n",
      "[31]\tvalidation_0-rmse:0.72448\tvalidation_1-rmse:0.74846\n",
      "[32]\tvalidation_0-rmse:0.72413\tvalidation_1-rmse:0.74872\n",
      "[33]\tvalidation_0-rmse:0.72397\tvalidation_1-rmse:0.74888\n",
      "[34]\tvalidation_0-rmse:0.72374\tvalidation_1-rmse:0.74895\n",
      "[35]\tvalidation_0-rmse:0.72366\tvalidation_1-rmse:0.74911\n",
      "[36]\tvalidation_0-rmse:0.72362\tvalidation_1-rmse:0.74918\n",
      "[37]\tvalidation_0-rmse:0.72318\tvalidation_1-rmse:0.74949\n",
      "[38]\tvalidation_0-rmse:0.72287\tvalidation_1-rmse:0.74975\n",
      "[39]\tvalidation_0-rmse:0.72279\tvalidation_1-rmse:0.74978\n",
      "[40]\tvalidation_0-rmse:0.72240\tvalidation_1-rmse:0.75014\n",
      "[41]\tvalidation_0-rmse:0.72219\tvalidation_1-rmse:0.75051\n",
      "[42]\tvalidation_0-rmse:0.72200\tvalidation_1-rmse:0.75083\n",
      "[43]\tvalidation_0-rmse:0.72174\tvalidation_1-rmse:0.75074\n",
      "[44]\tvalidation_0-rmse:0.72161\tvalidation_1-rmse:0.75069\n",
      "[45]\tvalidation_0-rmse:0.72138\tvalidation_1-rmse:0.75089\n",
      "[46]\tvalidation_0-rmse:0.72117\tvalidation_1-rmse:0.75101\n",
      "[47]\tvalidation_0-rmse:0.72084\tvalidation_1-rmse:0.75138\n",
      "[48]\tvalidation_0-rmse:0.72070\tvalidation_1-rmse:0.75156\n",
      "[49]\tvalidation_0-rmse:0.72049\tvalidation_1-rmse:0.75199\n",
      "[50]\tvalidation_0-rmse:0.72026\tvalidation_1-rmse:0.75232\n",
      "[51]\tvalidation_0-rmse:0.72000\tvalidation_1-rmse:0.75259\n",
      "[52]\tvalidation_0-rmse:0.71967\tvalidation_1-rmse:0.75302\n",
      "[53]\tvalidation_0-rmse:0.71949\tvalidation_1-rmse:0.75325\n",
      "[54]\tvalidation_0-rmse:0.71932\tvalidation_1-rmse:0.75342\n",
      "[55]\tvalidation_0-rmse:0.71897\tvalidation_1-rmse:0.75360\n",
      "[56]\tvalidation_0-rmse:0.71885\tvalidation_1-rmse:0.75367\n",
      "[57]\tvalidation_0-rmse:0.71869\tvalidation_1-rmse:0.75385\n",
      "Exporting model to: /Users/ciaran/Documents/Projects/AFL/git-repositories/expected-vaep-model/models/models\n"
     ]
    }
   ],
   "source": [
    "for target in ['scores', 'concedes']:\n",
    "    train_model(input_file_path = \"/Users/ciaran/Documents/Projects/AFL/git-repositories/expected-vaep-model/data/processed/exp_vaep_modelling_data_v5.csv\", \n",
    "                output_file_path = \"/Users/ciaran/Documents/Projects/AFL/git-repositories/expected-vaep-model/models/models\",\n",
    "                target = target, \n",
    "                model_version = 5)"
   ]
  },
  {
   "cell_type": "code",
   "execution_count": null,
   "metadata": {},
   "outputs": [],
   "source": []
  }
 ],
 "metadata": {
  "kernelspec": {
   "display_name": "afl-total-model-env",
   "language": "python",
   "name": "python3"
  },
  "language_info": {
   "codemirror_mode": {
    "name": "ipython",
    "version": 3
   },
   "file_extension": ".py",
   "mimetype": "text/x-python",
   "name": "python",
   "nbconvert_exporter": "python",
   "pygments_lexer": "ipython3",
   "version": "3.11.5"
  },
  "orig_nbformat": 4,
  "vscode": {
   "interpreter": {
    "hash": "dc578ee0f2f240f88b07d66010ce4f17cba19ae2fcd1972906e53630b629e476"
   }
  }
 },
 "nbformat": 4,
 "nbformat_minor": 2
}
